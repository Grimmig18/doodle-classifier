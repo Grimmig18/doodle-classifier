{
 "cells": [
  {
   "cell_type": "code",
   "execution_count": 2,
   "metadata": {},
   "outputs": [
    {
     "name": "stdout",
     "output_type": "stream",
     "text": [
      "The autoreload extension is already loaded. To reload it, use:\n",
      "  %reload_ext autoreload\n"
     ]
    }
   ],
   "source": [
    "# Setup\n",
    "%load_ext autoreload\n",
    "%reload_ext autoreload\n",
    "%autoreload 2\n",
    "\n",
    "import os\n",
    "import sys\n",
    "root_dir = os.path.join(os.getcwd(), '..')\n",
    "sys.path.append(root_dir)\n",
    "\n",
    "import numpy as np\n",
    "import pandas as pd\n",
    "import pickle\n",
    "import matplotlib.pyplot as plt\n",
    "from sklearn.neural_network import MLPClassifier\n",
    "from sklearn.model_selection import train_test_split\n",
    "from sklearn.metrics import confusion_matrix\n",
    "from sklearn.metrics import plot_confusion_matrix\n",
    "\n",
    "from src.data_loader import DataLoader as DL\n",
    "from src.coach import train_in_batches"
   ]
  },
  {
   "cell_type": "code",
   "execution_count": null,
   "metadata": {},
   "outputs": [],
   "source": [
    "%%time\n",
    "dl = DL()\n",
    "clf_batches = MLPClassifier(hidden_layer_sizes=(128,))\n",
    "no_steps = 1000\n",
    "batch_size = 10\n",
    "results = []\n",
    "test_x, test_y = dl.load_random_test_data(sample_size=1, return_1d=True)\n",
    "clf_batches.partial_fit(test_x, test_y, dl.get_classes())\n",
    "\n",
    "test_x, test_y = dl.load_random_test_data(sample_size=60, return_1d=True)\n",
    "r = clf_batches.score(test_x, test_y)\n",
    "results.append(1-r)\n",
    "\n",
    "for i in range(no_steps):\n",
    "    data, labels = dl.get_next_training_set(batch_size=batch_size)\n",
    "    clf_batches.partial_fit(data, labels, dl.classes)\n",
    "    \n",
    "    r = clf_batches.score(test_x, test_y)\n",
    "    results.append(1-r)\n",
    "\n",
    "# Get random test data\n",
    "test_x, test_y = dl.load_random_test_data(sample_size=300, return_1d=True)\n",
    "clf_batches.score(test_x, test_y) \n",
    "\n",
    "# Save model\n",
    "pickle.dump(clf_batches, open(dl.model_save_path, 'wb'))"
   ]
  },
  {
   "cell_type": "code",
   "execution_count": null,
   "metadata": {},
   "outputs": [],
   "source": [
    "# Plot learning progress\n",
    "start = 1\n",
    "step = batch_size\n",
    "no_steps = no_steps\n",
    "index = np.linspace(start, start+(step*no_steps), int((step*no_steps/step)+start))\n",
    "data = pd.DataFrame(data=results, index=index)\n",
    "fig, ax = plt.subplots(1, 1, dpi=200)\n",
    "ax.set_title('Error rate over trained sample size')\n",
    "ax.set_xlabel('Number of datapoints per class')\n",
    "ax.set_ylabel('Error rate')\n",
    "ax.plot(data)"
   ]
  }
 ],
 "metadata": {
  "kernelspec": {
   "display_name": "Python 3",
   "language": "python",
   "name": "python3"
  },
  "language_info": {
   "codemirror_mode": {
    "name": "ipython",
    "version": 3
   },
   "file_extension": ".py",
   "mimetype": "text/x-python",
   "name": "python",
   "nbconvert_exporter": "python",
   "pygments_lexer": "ipython3",
   "version": "3.8.3"
  }
 },
 "nbformat": 4,
 "nbformat_minor": 4
}
