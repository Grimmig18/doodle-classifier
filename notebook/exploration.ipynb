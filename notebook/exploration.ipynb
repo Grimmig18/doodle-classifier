{
 "cells": [
  {
   "cell_type": "markdown",
   "metadata": {},
   "source": [
    "# Doodle classifier\n"
   ]
  },
  {
   "cell_type": "code",
   "execution_count": 1,
   "metadata": {},
   "outputs": [],
   "source": [
    "# Setup\n",
    "%load_ext autoreload\n",
    "%reload_ext autoreload\n",
    "%autoreload 2\n",
    "\n",
    "import os\n",
    "import sys\n",
    "root_dir = os.path.join(os.getcwd(), '..')\n",
    "sys.path.append(root_dir)\n",
    "\n",
    "import numpy as np\n",
    "import pandas as pd\n",
    "import pickle\n",
    "import random\n",
    "import matplotlib.pyplot as plt\n",
    "import seaborn as sn\n",
    "from sklearn.neural_network import MLPClassifier\n",
    "from sklearn.model_selection import train_test_split\n",
    "from sklearn.metrics import confusion_matrix\n",
    "from sklearn.metrics import plot_confusion_matrix\n",
    "\n",
    "from src.data_loader import DataLoader as DL\n",
    "from src.coach import train_in_batches"
   ]
  },
  {
   "cell_type": "markdown",
   "metadata": {},
   "source": [
    "### Initialization and loading model"
   ]
  },
  {
   "cell_type": "code",
   "execution_count": 2,
   "metadata": {},
   "outputs": [],
   "source": [
    "dl = DL()\n",
    "test_x, test_y = dl.load_random_test_data(sample_size=300, return_1d=True)"
   ]
  },
  {
   "cell_type": "code",
   "execution_count": 3,
   "metadata": {},
   "outputs": [],
   "source": [
    "# Load model\n",
    "clf = pickle.load(open('../model/clf_batches.sav', 'rb'))"
   ]
  },
  {
   "cell_type": "markdown",
   "metadata": {},
   "source": [
    "### Load random test data from the data set"
   ]
  },
  {
   "cell_type": "code",
   "execution_count": 4,
   "metadata": {},
   "outputs": [
    {
     "name": "stdout",
     "output_type": "stream",
     "text": [
      "helicopter\n",
      "expected:  helicopter got:  helicopter\n",
      "expected:  helicopter got:  helicopter\n",
      "expected:  helicopter got:  helicopter\n",
      "octopus\n",
      "expected:  octopus got:  pizza\n",
      "expected:  octopus got:  octopus\n",
      "expected:  octopus got:  octopus\n",
      "pizza\n",
      "expected:  pizza got:  pizza\n",
      "expected:  pizza got:  pizza\n",
      "expected:  pizza got:  pizza\n"
     ]
    }
   ],
   "source": [
    "set_path = '../img/test_set/'\n",
    "# Clean up old files\n",
    "for filename in os.listdir(set_path):\n",
    "    if filename.endswith('.png'):\n",
    "        file_path = set_path+filename\n",
    "        try:\n",
    "            os.remove(file_path)\n",
    "        except OSError as e:\n",
    "             print(\"Error: %s : %s\" % (file_path, e.strerror))\n",
    "\n",
    "# Load random images from data set and save in img/test folder\n",
    "for label in dl.get_class_names():\n",
    "    print(label)\n",
    "    for i in random.sample(range(50_000, 60_000), 3):\n",
    "        mat, word, raw = dl.load_image_matrix(label, i)\n",
    "        dl.save_image(raw, name=\"{}{}{}\".format(set_path, label, i))\n",
    "        i_mat, i_img = dl.load_image(\"{}{}{}.png\".format(set_path, label, i), is_array=False)\n",
    "        print(\"expected: \", label, \"got: \", dl.number_index[clf.predict([i_img])[0]])"
   ]
  },
  {
   "cell_type": "markdown",
   "metadata": {},
   "source": [
    "### Load pre-selected images from `img/test_set`"
   ]
  },
  {
   "cell_type": "code",
   "execution_count": 5,
   "metadata": {},
   "outputs": [
    {
     "name": "stdout",
     "output_type": "stream",
     "text": [
      "helicopter \t Predicted: helicopter\n",
      "helicopter \t Predicted: helicopter\n",
      "helicopter \t Predicted: helicopter\n",
      "octopus \t Predicted: pizza\n",
      "octopus \t Predicted: octopus\n",
      "octopus \t Predicted: octopus\n",
      "pizza \t Predicted: pizza\n",
      "pizza \t Predicted: pizza\n",
      "pizza \t Predicted: pizza\n"
     ]
    }
   ],
   "source": [
    "# Test from test_set\n",
    "for file in os.listdir(set_path):\n",
    "    if file.endswith('.png'):\n",
    "        i_mat, i_img = dl.load_image(set_path+file, is_array=False)\n",
    "        print(file.split(\".\")[0][:-5], \"\\t Predicted:\", dl.number_index[clf.predict([i_img])[0]])"
   ]
  },
  {
   "cell_type": "markdown",
   "metadata": {},
   "source": [
    "### Load hand drawn images from `img/test_hand`"
   ]
  },
  {
   "cell_type": "code",
   "execution_count": 6,
   "metadata": {},
   "outputs": [
    {
     "name": "stdout",
     "output_type": "stream",
     "text": [
      "helicopter \t Predicted: pizza\n",
      "helicopter \t Predicted: pizza\n",
      "helicopter \t Predicted: helicopter\n",
      "octopus \t Predicted: octopus\n",
      "octopus \t Predicted: octopus\n",
      "octopus \t Predicted: octopus\n",
      "pizza \t Predicted: pizza\n",
      "pizza \t Predicted: pizza\n",
      "pizza \t Predicted: pizza\n"
     ]
    }
   ],
   "source": [
    "# Test from test_hand\n",
    "hand_path = '../img/test_hand/'\n",
    "for file in os.listdir(hand_path):\n",
    "    if file.endswith('.png'):\n",
    "        i_mat, i_img = dl.load_hand_drawn(hand_path+file)\n",
    "        print(file.split(\"_\")[0], \"\\t Predicted:\", dl.number_index[clf.predict([i_img])[0]])"
   ]
  },
  {
   "cell_type": "markdown",
   "metadata": {},
   "source": [
    "## Prediction"
   ]
  },
  {
   "cell_type": "code",
   "execution_count": 7,
   "metadata": {},
   "outputs": [
    {
     "name": "stdout",
     "output_type": "stream",
     "text": [
      "Model Score:  0.9246666666666666\n"
     ]
    }
   ],
   "source": [
    "# Load random test data for confusion matrix\n",
    "test_x, test_y = dl.load_random_test_data(sample_size=500, return_1d=True)\n",
    "print(\"Model Score: \", clf.score(test_x, test_y))\n",
    "pred = clf.predict(test_x)"
   ]
  },
  {
   "cell_type": "code",
   "execution_count": 8,
   "metadata": {},
   "outputs": [
    {
     "data": {
      "text/plain": [
       "<AxesSubplot:title={'center':'Confusion matrix, without normalization'}>"
      ]
     },
     "execution_count": 8,
     "metadata": {},
     "output_type": "execute_result"
    },
    {
     "data": {
      "image/png": "[encoded data removed]",
      "text/plain": [
       "<Figure size 1080x720 with 2 Axes>"
      ]
     },
     "metadata": {
      "needs_background": "light"
     },
     "output_type": "display_data"
    }
   ],
   "source": [
    "# Generate confusion matrix (with absolute values)\n",
    "class_names = dl.get_class_names()\n",
    "cm = confusion_matrix(test_y, pred)\n",
    "df_cm = pd.DataFrame(cm, index = class_names,\n",
    "                  columns = class_names)\n",
    "plt.figure(figsize = (15,10))\n",
    "ax = plt.axes()\n",
    "ax.set_title('Confusion matrix, without normalization')\n",
    "sn.heatmap(df_cm, annot=True, cmap=plt.cm.Blues, fmt='g')"
   ]
  },
  {
   "cell_type": "code",
   "execution_count": 9,
   "metadata": {},
   "outputs": [
    {
     "data": {
      "text/plain": [
       "<AxesSubplot:title={'center':'Normalized confusion matrix'}>"
      ]
     },
     "execution_count": 9,
     "metadata": {},
     "output_type": "execute_result"
    },
    {
     "data": {
      "image/png": "[encoded data removed]",
      "text/plain": [
       "<Figure size 1080x720 with 2 Axes>"
      ]
     },
     "metadata": {
      "needs_background": "light"
     },
     "output_type": "display_data"
    }
   ],
   "source": [
    "# Generate confusion matrix (with normalized values)\n",
    "row_sums = cm.sum(axis=1)\n",
    "new_matrix = cm / row_sums[:, np.newaxis]\n",
    "df_cm = pd.DataFrame(new_matrix, index = class_names,\n",
    "                  columns = class_names)\n",
    "plt.figure(figsize = (15,10))\n",
    "ax = plt.axes()\n",
    "ax.set_title('Normalized confusion matrix')\n",
    "sn.heatmap(df_cm, annot=True, cmap=plt.cm.Blues, fmt='g')"
   ]
  },
  {
   "cell_type": "markdown",
   "metadata": {},
   "source": [
    "### Results\n",
    "\n",
    "| Parameter | Value | Results (Accuray) |\n",
    "| --- | --- | --- |\n",
    "| Hidden Layers | `(100,)` (default) | `0.811` |\n",
    "| Hidden Layers | `(128, 128, 64)` | `0.868` |\n",
    "| Hidden Layers | `(128,)` | `0.863` |\n",
    "\n",
    "\n"
   ]
  }
 ],
 "metadata": {
  "kernelspec": {
   "display_name": "Python 3",
   "language": "python",
   "name": "python3"
  },
  "language_info": {
   "codemirror_mode": {
    "name": "ipython",
    "version": 3
   },
   "file_extension": ".py",
   "mimetype": "text/x-python",
   "name": "python",
   "nbconvert_exporter": "python",
   "pygments_lexer": "ipython3",
   "version": "3.8.3"
  }
 },
 "nbformat": 4,
 "nbformat_minor": 4
}
