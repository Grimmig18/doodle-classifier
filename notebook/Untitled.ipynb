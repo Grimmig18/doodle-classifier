{
 "cells": [
  {
   "cell_type": "code",
   "execution_count": 11,
   "metadata": {},
   "outputs": [
    {
     "name": "stdout",
     "output_type": "stream",
     "text": [
      "The autoreload extension is already loaded. To reload it, use:\n",
      "  %reload_ext autoreload\n"
     ]
    }
   ],
   "source": [
    "# Setup\n",
    "%load_ext autoreload\n",
    "%reload_ext autoreload\n",
    "%autoreload 2\n",
    "\n",
    "import os\n",
    "import sys\n",
    "root_dir = os.path.join(os.getcwd(), '..')\n",
    "sys.path.append(root_dir)\n",
    "\n",
    "import numpy as np\n",
    "import pandas as pd\n",
    "from sklearn.neural_network import MLPClassifier\n",
    "from sklearn.model_selection import train_test_split\n",
    "from sklearn.metrics import confusion_matrix\n",
    "\n",
    "from src.data_loader import DataLoader as DL\n",
    "from src.coach import train_in_batches"
   ]
  },
  {
   "cell_type": "code",
   "execution_count": null,
   "metadata": {},
   "outputs": [
    {
     "name": "stdout",
     "output_type": "stream",
     "text": [
      "Set max_possible_lines to 124413\n"
     ]
    }
   ],
   "source": [
    "dl = DL()\n",
    "clf_batches = MLPClassifier(hidden_layer_sizes=(128,))\n",
    "no_steps = 10000\n",
    "batch_size = 10\n",
    "results = []\n",
    "for i in range(no_steps):\n",
    "    data, labels = dl.get_next_training_set(batch_size=batch_size)\n",
    "    clf_batches.partial_fit(data, labels, dl.classes)\n",
    "    \n",
    "    test_x, test_y = dl.load_random_test_data(sample_size=60, return_1d=True)\n",
    "    r = clf_batches.score(test_x, test_y) +\n",
    "    results.append(1-r)\n",
    "\n",
    "# Get random test data\n",
    "test_x, test_y = dl.load_random_test_data(sample_size=300, return_1d=True)\n",
    "clf_batches.score(test_x, test_y) "
   ]
  },
  {
   "cell_type": "code",
   "execution_count": null,
   "metadata": {},
   "outputs": [],
   "source": [
    "# Score\n",
    "pred = clf_batches.predict(test_x)"
   ]
  },
  {
   "cell_type": "code",
   "execution_count": null,
   "metadata": {},
   "outputs": [],
   "source": [
    "# Confusion Matrix\n",
    "confusion_matrix(test_y, pred)"
   ]
  },
  {
   "cell_type": "code",
   "execution_count": null,
   "metadata": {},
   "outputs": [],
   "source": [
    "# Plot learning progress\n",
    "pd.DataFrame(data=results, index=np.linspace(batch_size, batch_size*no_steps, int(no_steps*batch_size/batch_size))).plot()"
   ]
  },
  {
   "cell_type": "code",
   "execution_count": null,
   "metadata": {},
   "outputs": [],
   "source": []
  }
 ],
 "metadata": {
  "kernelspec": {
   "display_name": "Python 3",
   "language": "python",
   "name": "python3"
  },
  "language_info": {
   "codemirror_mode": {
    "name": "ipython",
    "version": 3
   },
   "file_extension": ".py",
   "mimetype": "text/x-python",
   "name": "python",
   "nbconvert_exporter": "python",
   "pygments_lexer": "ipython3",
   "version": "3.5.2"
  }
 },
 "nbformat": 4,
 "nbformat_minor": 4
}
