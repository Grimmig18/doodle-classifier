{
 "cells": [
  {
   "cell_type": "code",
   "execution_count": 13,
   "metadata": {},
   "outputs": [
    {
     "name": "stdout",
     "output_type": "stream",
     "text": [
      "The autoreload extension is already loaded. To reload it, use:\n",
      "  %reload_ext autoreload\n"
     ]
    }
   ],
   "source": [
    "%load_ext autoreload\n",
    "%reload_ext autoreload\n",
    "%autoreload 2"
   ]
  },
  {
   "cell_type": "code",
   "execution_count": 14,
   "metadata": {},
   "outputs": [],
   "source": [
    "import os\n",
    "import sys\n",
    "root_dir = os.path.join(os.getcwd(), '..')\n",
    "sys.path.append(root_dir)"
   ]
  },
  {
   "cell_type": "code",
   "execution_count": 15,
   "metadata": {},
   "outputs": [],
   "source": [
    "import numpy as np\n",
    "import png\n",
    "from src.hello_world import HelloWorld as HW\n",
    "from src.data_loader import DataLoader as DL"
   ]
  },
  {
   "cell_type": "code",
   "execution_count": 52,
   "metadata": {},
   "outputs": [
    {
     "name": "stdout",
     "output_type": "stream",
     "text": [
      "2416\n",
      "256 256\n",
      "256 256\n"
     ]
    }
   ],
   "source": [
    "dl = DL()\n",
    "image_data = dl.load_data_from_file(dl.PIZZA, 5)[dl.DRAWING]\n",
    "data_tupels = dl.drawing_array_to_tupels(image_data)\n",
    "print(len(data_tupels))\n",
    "image = np.full((dl.width, dl.height), 1)\n",
    "\n",
    "for t in data_tupels:\n",
    "    image[t[0], t[1]] = 0\n",
    "    \n",
    "# print(image)\n",
    "print(len(image), len(image[0]))\n",
    "\n",
    "image = [[int(c) for c in row] for row in image]\n",
    "print(len(image), len(image[0]))\n",
    "\n",
    "w = png.Writer(len(image[0]), len(image), greyscale=True, bitdepth=1)\n",
    "f = open('test.png', 'wb')\n",
    "w.write(f, image)\n",
    "f.close()"
   ]
  }
 ],
 "metadata": {
  "kernelspec": {
   "display_name": "Python 3",
   "language": "python",
   "name": "python3"
  },
  "language_info": {
   "codemirror_mode": {
    "name": "ipython",
    "version": 3
   },
   "file_extension": ".py",
   "mimetype": "text/x-python",
   "name": "python",
   "nbconvert_exporter": "python",
   "pygments_lexer": "ipython3",
   "version": "3.8.3"
  }
 },
 "nbformat": 4,
 "nbformat_minor": 4
}
