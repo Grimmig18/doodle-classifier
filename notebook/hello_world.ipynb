{
 "cells": [
  {
   "cell_type": "code",
   "execution_count": 1,
   "metadata": {},
   "outputs": [],
   "source": [
    "%load_ext autoreload\n",
    "%reload_ext autoreload\n",
    "%autoreload 2"
   ]
  },
  {
   "cell_type": "code",
   "execution_count": 2,
   "metadata": {},
   "outputs": [],
   "source": [
    "import os\n",
    "import sys\n",
    "root_dir = os.path.join(os.getcwd(), '..')\n",
    "sys.path.append(root_dir)"
   ]
  },
  {
   "cell_type": "code",
   "execution_count": 7,
   "metadata": {},
   "outputs": [],
   "source": [
    "import numpy as np\n",
    "import png\n",
    "from src.hello_world import HelloWorld as HW\n",
    "from src.data_loader import DataLoader as DL"
   ]
  },
  {
   "cell_type": "code",
   "execution_count": 37,
   "metadata": {},
   "outputs": [
    {
     "name": "stdout",
     "output_type": "stream",
     "text": [
      "[(229, 40), (221, 26), (208, 14), (189, 4), (174, 0), (135, 2), (93, 16), (73, 27), (39, 53), (27, 69), (9, 103), (5, 132), (9, 143), (20, 154), (36, 163), (55, 169), (101, 171), (150, 162), (211, 140), (238, 118), (248, 102), (255, 76), (253, 63), (246, 52), (225, 31), (193, 9), (183, 5), (158, 4), (143, 9), (136, 15), (124, 62), (95, 143), (210, 24), (86, 123), (42, 146), (45, 49), (180, 123), (201, 130), (212, 125), (244, 62), (195, 72), (4, 96), (0, 102), (105, 81), (103, 119), (91, 168), (58, 99), (49, 105), (46, 114), (55, 116), (65, 112), (67, 106), (60, 101), (109, 78), (104, 67), (89, 70), (80, 83), (82, 91), (89, 90), (100, 82), (103, 72), (100, 71), (142, 48), (136, 49), (130, 63), (131, 65), (136, 65), (150, 59), (151, 56), (143, 52), (143, 54)]\n",
      "[[1 1 1 ... 1 1 1]\n",
      " [1 1 1 ... 1 1 1]\n",
      " [1 1 1 ... 1 1 1]\n",
      " ...\n",
      " [1 1 1 ... 1 1 1]\n",
      " [1 1 1 ... 1 1 1]\n",
      " [1 1 1 ... 1 1 1]]\n",
      "256 256\n",
      "256 256\n"
     ]
    }
   ],
   "source": [
    "dl = DL()\n",
    "image_data = dl.load_data_from_file(dl.PIZZA, 500)[dl.DRAWING]\n",
    "data_tupels = dl.drawing_array_to_tupels(image_data)\n",
    "print(data_tupels)\n",
    "image = np.full((dl.width, dl.height), 1)\n",
    "\n",
    "for t in data_tupels:\n",
    "    image[t[0], t[1]] = 0\n",
    "    \n",
    "print(image)\n",
    "print(len(image), len(image[0]))\n",
    "\n",
    "image = [[int(c) for c in row] for row in image]\n",
    "print(len(image), len(image[0]))\n",
    "\n",
    "w = png.Writer(len(image[0]), len(image), greyscale=True, bitdepth=1)\n",
    "f = open('test.png', 'wb')\n",
    "w.write(f, image)\n",
    "f.close()"
   ]
  }
 ],
 "metadata": {
  "kernelspec": {
   "display_name": "Python 3",
   "language": "python",
   "name": "python3"
  },
  "language_info": {
   "codemirror_mode": {
    "name": "ipython",
    "version": 3
   },
   "file_extension": ".py",
   "mimetype": "text/x-python",
   "name": "python",
   "nbconvert_exporter": "python",
   "pygments_lexer": "ipython3",
   "version": "3.8.3"
  }
 },
 "nbformat": 4,
 "nbformat_minor": 4
}
