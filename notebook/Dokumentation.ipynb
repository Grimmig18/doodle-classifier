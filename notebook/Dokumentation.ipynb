{
 "cells": [
  {
   "cell_type": "markdown",
   "id": "ceramic-exhibition",
   "metadata": {},
   "source": [
    "# Dokumentation"
   ]
  },
  {
   "cell_type": "markdown",
   "id": "returning-fireplace",
   "metadata": {},
   "source": [
    "## Problemstellung:\n",
    "\n",
    "Maschinelles Lernen kann in verschiedenen Bereichen eingesetzt werden. Beispiele dafür sind die Vorhersage zukünftiger Ereignisse auf Basis von vorherigen Ereignissen oder auch die Mustererkennung.\n",
    "Mit der voranschreitenden Digitalisierung übernimmt Software immer mehr alltägliche Aufgaben. Ein sehr aktuelles Thema ist dabei das autonome Fahren, indem maschinelles Lernen eingesetzt wird.\n",
    "Ein weiteres Beispiel für den Einsatz von Erkennungssoftware ist die Gesichtserkennung, wie es viele Apple Nutzer in ihren aktuellen Smartphone wieder finden.\n",
    "Wie diese beiden Beispiele zeigen, wird der Bilderkunngen im Zusammenhang mit maschinellem Lernens eine hohe Bedeutung beigemessen.\n",
    "Deshalb haben wir uns dafür entschieden den Bereich von Bild- und Mustererkennung im Rahmen der Vorlesung genauer zu beleuchten.\n",
    "\n",
    "Um ein geeignetes Projekt für die Bilderkennung durchzuführen, mussten wir einige Probleme lösen und uns geeignetes Wissen in den Bereichen aneignen.\n",
    "\n",
    "Die zu klärenden Fragen sind unter anderem:\n",
    "- Welches Datenset eignet sich, um das Projekt erfolgreich abschließen zu können?\n",
    "- Wie müssen die Daten aufbereitet werden?\n",
    "- Wie \"sehen\" Maschinen?\n",
    "- Wie werden Muster erkannt?\n",
    "- Welche Algorithmen gibt es?\n",
    "- Worauf muss beim Lernen geachtet werden?\n",
    "- welche Parameter können variiert werden?\n",
    "- Wie wirkt sich die Variation einzelner Parameter auf die Ergebnisse aus?\n",
    "\n",
    "In dieser Dokumentation geben wir Antworten auf die Fragen, die wir uns gestellt haben und zeigen, wie unser Projekt durchgeführt wurde."
   ]
  },
  {
   "cell_type": "markdown",
   "id": "positive-words",
   "metadata": {},
   "source": [
    "## Datenset\n",
    "\n",
    "Für die Auswahl eines geeigneten Datensets haben wir uns auf Datensets mit einer geringen visuellen Komplexität beschränkt. \n",
    "Konkret haben wir sämtliche Fotoaufnahmen ausgeschlossen, da wir zunächst mit simplen Daten erste Erfahrungen und Ergebnisse sammelen wollten.\n",
    "Des Weiteren wollten wir keine plakative Texterkennung erstellen, sondern an handgemalten Zeichnungen versuchen.\n",
    "\n",
    "Bei unsere Suche nach einem geeigneten Datenset haben wir diverse Datenquellen gefunden: \n",
    "\n",
    "1) [https://archive.ics.uci.edu/ml/datasets.php](https://archive.ics.uci.edu/ml/datasets.php)\n",
    "2) [https://www.cs.toronto.edu/~kriz/cifar.html](https://www.cs.toronto.edu/~kriz/cifar.html)\n",
    "3) [https://quickdraw.withgoogle.com/#](https://quickdraw.withgoogle.com/#)\n",
    "\n",
    "Die ersten beiden Quellen schließen wir aufgrund der oben gegebenen Begründung für unser Projekt aus, weswegen die Entscheidung auf das von Google bereitgestellte Datenset fiel.\n",
    "\n",
    "Das ausgewählte Datenset hat zudem den Vorteil, dass die Zeichnungen lediglich in schwarz weiß vorliegen, was wiederum die Komplexität der Daten minimiert, da die Farbquantizierung den Rahmen der Arbeit und unseren Erfahrungen sprengen würde."
   ]
  },
  {
   "cell_type": "markdown",
   "id": "choice-professional",
   "metadata": {},
   "source": [
    "## Datenaufbereitung "
   ]
  },
  {
   "cell_type": "markdown",
   "id": "complete-savannah",
   "metadata": {},
   "source": [
    "## Algorithmen"
   ]
  },
  {
   "cell_type": "markdown",
   "id": "black-fortune",
   "metadata": {},
   "source": [
    "## Erklärung: CNN"
   ]
  },
  {
   "cell_type": "markdown",
   "id": "sunset-offer",
   "metadata": {},
   "source": [
    "## CNN Paramter\n",
    "### Überblick der Paramter\n",
    "### Variation der Paramter"
   ]
  },
  {
   "cell_type": "markdown",
   "id": "allied-property",
   "metadata": {},
   "source": [
    "## Vorstellung der Ergebnisse"
   ]
  }
 ],
 "metadata": {
  "kernelspec": {
   "display_name": "Python 3",
   "language": "python",
   "name": "python3"
  },
  "language_info": {
   "codemirror_mode": {
    "name": "ipython",
    "version": 3
   },
   "file_extension": ".py",
   "mimetype": "text/x-python",
   "name": "python",
   "nbconvert_exporter": "python",
   "pygments_lexer": "ipython3",
   "version": "3.8.3"
  }
 },
 "nbformat": 4,
 "nbformat_minor": 5
}
