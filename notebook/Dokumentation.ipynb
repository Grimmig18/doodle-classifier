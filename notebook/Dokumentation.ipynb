{
 "cells": [
  {
   "cell_type": "markdown",
   "id": "transparent-trademark",
   "metadata": {},
   "source": [
    "# Dokumentation"
   ]
  },
  {
   "cell_type": "markdown",
   "id": "oriental-browse",
   "metadata": {},
   "source": [
    "## Problemstellung:\n",
    "\n",
    "Maschinelles Lernen kann in verschiedenen Bereichen eingesetzt werden. Beispiele dafür sind die Vorhersage zukünftiger Ereignisse auf Basis von vorherigen Ereignissen oder auch die Mustererkennung.\n",
    "Mit der voranschreitenden Digitalisierung übernimmt Software immer mehr alltägliche Aufgaben. Ein sehr aktuelles Thema ist dabei das autonome Fahren, indem maschinelles Lernen eingesetzt wird.\n",
    "Ein weiteres Beispiel für den Einsatz von Erkennungssoftware ist die Gesichtserkennung, wie es viele Apple Nutzer in ihren aktuellen Smartphone wieder finden.\n",
    "Wie diese beiden Beispiele zeigen, wird der Bilderkunngen im Zusammenhang mit maschinellem Lernens eine hohe Bedeutung beigemessen.\n",
    "Deshalb haben wir uns dafür entschieden den Bereich von Bild- und Mustererkennung im Rahmen der Vorlesung genauer zu beleuchten.\n",
    "\n",
    "Um ein geeignetes Projekt für die Bilderkennung durchzuführen, mussten wir einige Probleme lösen und uns geeignetes Wissen in den Bereichen aneignen.\n",
    "\n",
    "Die zu klärenden Fragen sind unter anderem:\n",
    "- Welches Datenset eignet sich, um das Projekt erfolgreich abschließen zu können?\n",
    "- Wie müssen die Daten aufbereitet werden?\n",
    "- Wie \"sehen\" Maschinen?\n",
    "- Wie werden Muster erkannt?\n",
    "- Welche Algorithmen gibt es?\n",
    "- Worauf muss beim Lernen geachtet werden?\n",
    "- welche Parameter können variiert werden?\n",
    "- Wie wirkt sich die Variation einzelner Parameter auf die Ergebnisse aus?\n",
    "\n",
    "In dieser Dokumentation geben wir Antworten auf die Fragen, die wir uns gestellt haben und zeigen, wie unser Projekt durchgeführt wurde."
   ]
  },
  {
   "cell_type": "markdown",
   "id": "placed-seven",
   "metadata": {},
   "source": [
    "## Datenset\n",
    "\n",
    "Für die Auswahl eines geeigneten Datensets haben wir uns auf Datensets mit einer geringen visuellen Komplexität beschränkt. \n",
    "Konkret haben wir sämtliche Fotoaufnahmen ausgeschlossen, da wir zunächst mit simplen Daten erste Erfahrungen und Ergebnisse sammelen wollten.\n",
    "Des Weiteren wollten wir keine plakative Texterkennung erstellen, sondern an handgemalten Zeichnungen versuchen.\n",
    "\n",
    "Bei unsere Suche nach einem geeigneten Datenset haben wir diverse Datenquellen gefunden: \n",
    "\n",
    "1) [https://archive.ics.uci.edu/ml/datasets.php](https://archive.ics.uci.edu/ml/datasets.php)\n",
    "2) [https://www.cs.toronto.edu/~kriz/cifar.html](https://www.cs.toronto.edu/~kriz/cifar.html)\n",
    "3) [https://quickdraw.withgoogle.com/#](https://quickdraw.withgoogle.com/#)\n",
    "\n",
    "Die ersten beiden Quellen schließen wir aufgrund der oben gegebenen Begründung für unser Projekt aus, weswegen die Entscheidung auf das von Google bereitgestellte Datenset fiel.\n",
    "\n",
    "Das ausgewählte Datenset hat zudem den Vorteil, dass die Zeichnungen lediglich in schwarz weiß vorliegen, was wiederum die Komplexität der Daten minimiert, da die Farbquantizierung den Rahmen der Arbeit und unseren Erfahrungen sprengen würde."
   ]
  },
  {
   "cell_type": "markdown",
   "id": "charming-collins",
   "metadata": {},
   "source": [
    "## Datenaufbereitung "
   ]
  },
  {
   "cell_type": "markdown",
   "id": "optical-profession",
   "metadata": {},
   "source": [
    "## Algorithmen\n",
    "Um einen Überblick zu bekommen, wie die Erkennung von Bildern funktioniert, haben wir Informationen zu \"Image Classification\" gesucht.\n",
    "Dabei Tauchen immer wieder die Begriffe \"Deep learning\" und \"Neuronalenetzwerke\" auf.\n",
    "Um Bilder mit deep learning klassifizeren zu können, wird empfohlen neuronale Netze zu verwenden, die die Eingabe filtern und durch verschiedenen Datenlayer schicken. (Vgl. [Thinkautomation](https://www.thinkautomation.com/eli5/eli5-what-is-image-classification-in-deep-learning/))\n",
    "\n",
    "Es gibt eine Vielzahl unterschiedlicher Neuronaler Netze wie die folgende Liste zeigt (Vgl. [towards datascience](https://towardsdatascience.com/the-mostly-complete-chart-of-neural-networks-explained-3fb6f2367464gl), [towards datascience 2](https://towardsdatascience.com/types-of-neural-network-and-what-each-one-does-explained-d9b4c0ed63a1)):\n",
    "\n",
    "- Perceptron (P)\n",
    "- Feed Forward (FF)\n",
    "- Radial Basis Network (RBF)\n",
    "- Deep Feed Forward (DFF)\n",
    "- Recurrent Neural Networks (RNN)\n",
    "- Long / Short Term Memory (LSTM)\n",
    "- Gated Recurrent Unit (GRU)\n",
    "- Auto Encoder (AE)\n",
    "- Variational AE (VAE)\n",
    "- Denoising AE (DAE)\n",
    "- Sparse AE (SAE)\n",
    "- Markov Chain (MC)\n",
    "- Hopfield Network (HN)\n",
    "- Boltzmann Machine (BM)\n",
    "- Restricted BM (RBM)\n",
    "- Deep Beliefe Network (DBN)\n",
    "- Deep Convolutional Network (DCN)\n",
    "- Deconvolutional Network (DN)\n",
    "- Deep Convolutional Inverse Graphics Network (DCIGN)\n",
    "- Generative Adversarial Network (GAN)\n",
    "- Liquid State Machine (LSM)\n",
    "- Extreme Learning Machine (ELM)\n",
    "- Echo State Network (ESN)\n",
    "- Deep Residual Network (DRN)\n",
    "- Kohonen Network (KN)\n",
    "- Support Vector Machine (SVM)\n",
    "- Neural Turing Machine (NTM)\n",
    "- Convolutional Neural Network (CNN)\n",
    "\n",
    "Unsere Suche ergab, dass sich für unseren Anwendungsfall eignen sich vor allem Convolutional Neural Networks (CNNs) eignen.\n",
    "\n",
    "\n",
    "TODO:\n",
    "- Unterschiede erklären\n",
    "- Warum haben wir uns für CNNs entschieden?"
   ]
  },
  {
   "cell_type": "markdown",
   "id": "comfortable-drunk",
   "metadata": {},
   "source": [
    "## Erklärung: CNN"
   ]
  },
  {
   "cell_type": "markdown",
   "id": "exempt-peripheral",
   "metadata": {},
   "source": [
    "## CNN Paramter\n",
    "### Überblick der Paramter\n",
    "### Variation der Paramter"
   ]
  },
  {
   "cell_type": "markdown",
   "id": "athletic-print",
   "metadata": {},
   "source": [
    "## Vorstellung der Ergebnisse"
   ]
  }
 ],
 "metadata": {
  "kernelspec": {
   "display_name": "Python 3",
   "language": "python",
   "name": "python3"
  },
  "language_info": {
   "codemirror_mode": {
    "name": "ipython",
    "version": 3
   },
   "file_extension": ".py",
   "mimetype": "text/x-python",
   "name": "python",
   "nbconvert_exporter": "python",
   "pygments_lexer": "ipython3",
   "version": "3.5.2"
  }
 },
 "nbformat": 4,
 "nbformat_minor": 5
}
