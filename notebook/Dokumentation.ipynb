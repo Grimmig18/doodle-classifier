{
 "cells": [
  {
   "cell_type": "markdown",
   "id": "trained-lawsuit",
   "metadata": {},
   "source": [
    "# Dokumentation\n",
    "\n",
    "1. Problemstellung<br>\n",
    "2. Datenset<br>\n",
    "3. Datenaufbereitung<br>\n",
    "4. Algorithmen<br>\n",
    "5. Erklärung: CNN<br>\n",
    "6. CNN Parameter<br>\n",
    "a) Überblick der Paramter<br>\n",
    "b) Variation der Paramter<br>\n",
    "7. Vorstellung der Ergebnisse"
   ]
  },
  {
   "cell_type": "markdown",
   "id": "welcome-symphony",
   "metadata": {},
   "source": [
    "## Problemstellung:\n",
    "\n",
    "Maschinelles Lernen kann in verschiedenen Bereichen eingesetzt werden. Beispiele dafür sind die Vorhersage zukünftiger Ereignisse auf Basis von vorherigen Ereignissen oder auch die Mustererkennung.\n",
    "Mit der voranschreitenden Digitalisierung übernimmt Software immer mehr alltägliche Aufgaben. Ein sehr aktuelles Thema ist dabei das autonome Fahren, indem maschinelles Lernen eingesetzt wird.\n",
    "Ein weiteres Beispiel für den Einsatz von Erkennungssoftware ist die Gesichtserkennung, wie es viele Apple Nutzer in ihren aktuellen Smartphone wieder finden.\n",
    "Wie diese beiden Beispiele zeigen, wird der Bilderkunngen im Zusammenhang mit maschinellem Lernens eine hohe Bedeutung beigemessen.\n",
    "Deshalb haben wir uns dafür entschieden den Bereich von Bild- und Mustererkennung im Rahmen der Vorlesung genauer zu beleuchten.\n",
    "\n",
    "Um ein geeignetes Projekt für die Bilderkennung durchzuführen, mussten wir einige Probleme lösen und uns geeignetes Wissen in den Bereichen aneignen.\n",
    "\n",
    "Die zu klärenden Fragen sind unter anderem:\n",
    "- Welches Datenset eignet sich, um das Projekt erfolgreich abschließen zu können?\n",
    "- Wie müssen die Daten aufbereitet werden?\n",
    "- Wie \"sehen\" Maschinen?\n",
    "- Wie werden Muster erkannt?\n",
    "- Welche Algorithmen gibt es?\n",
    "- Worauf muss beim Lernen geachtet werden?\n",
    "- welche Parameter können variiert werden?\n",
    "- Wie wirkt sich die Variation einzelner Parameter auf die Ergebnisse aus?\n",
    "\n",
    "In dieser Dokumentation geben wir Antworten auf die Fragen, die wir uns gestellt haben und zeigen, wie unser Projekt durchgeführt wurde."
   ]
  },
  {
   "cell_type": "markdown",
   "id": "mighty-faith",
   "metadata": {},
   "source": [
    "## Datenset\n",
    "\n",
    "Für die Auswahl eines geeigneten Datensets haben wir uns auf Datensets mit einer geringen visuellen Komplexität beschränkt. \n",
    "Konkret haben wir sämtliche Fotoaufnahmen ausgeschlossen, da wir zunächst mit simplen Daten erste Erfahrungen und Ergebnisse sammelen wollten.\n",
    "Des Weiteren wollten wir keine plakative Texterkennung erstellen, sondern an handgemalten Zeichnungen versuchen.\n",
    "\n",
    "Bei unsere Suche nach einem geeigneten Datenset haben wir diverse Datenquellen gefunden: \n",
    "\n",
    "1) [https://archive.ics.uci.edu/ml/datasets.php](https://archive.ics.uci.edu/ml/datasets.php)<br>\n",
    "2) [https://www.cs.toronto.edu/~kriz/cifar.html](https://www.cs.toronto.edu/~kriz/cifar.html)<br>\n",
    "3) [https://quickdraw.withgoogle.com/#](https://quickdraw.withgoogle.com/#)<br>\n",
    "\n",
    "Die ersten beiden Quellen schließen wir aufgrund der oben gegebenen Begründung für unser Projekt aus, weswegen die Entscheidung auf das von Google bereitgestellte Datenset fiel.\n",
    "\n",
    "Das ausgewählte Datenset hat zudem den Vorteil, dass die Zeichnungen lediglich in schwarz weiß vorliegen, was wiederum die Komplexität der Daten minimiert, da die Farbquantizierung den Rahmen der Arbeit und unseren Erfahrungen sprengen würde."
   ]
  },
  {
   "cell_type": "markdown",
   "id": "ranking-failure",
   "metadata": {},
   "source": [
    "## Datenaufbereitung "
   ]
  },
  {
   "cell_type": "markdown",
   "id": "intelligent-despite",
   "metadata": {},
   "source": [
    "## Algorithmen & Neuronale Netze\n",
    "Um einen Überblick zu bekommen, wie die Erkennung von Bildern funktioniert, haben wir Informationen zu \"Image Classification\" gesucht.\n",
    "Dabei tauchen immer wieder die Begriffe \"Deep learning\" und \"Neuronalenetzwerke\" auf.\n",
    "Damit die Klassifizierung von Bildern mit Deep Learning erfolgreich ist, wird empfohlen neuronale Netze zu verwenden, die die Eingabe filtern und durch verschiedenen Datenlayer schicken. (Vgl. [Thinkautomation](https://www.thinkautomation.com/eli5/eli5-what-is-image-classification-in-deep-learning/))\n",
    "\n",
    "Es gibt eine Vielzahl unterschiedlicher Neuronaler Netze wie die folgende Liste zeigt (Vgl. [towards datascience](https://towardsdatascience.com/the-mostly-complete-chart-of-neural-networks-explained-3fb6f2367464), [towards datascience 2](https://towardsdatascience.com/types-of-neural-network-and-what-each-one-does-explained-d9b4c0ed63a1)):\n",
    "\n",
    "- Perceptron (P)\n",
    "- Feed Forward (FF)\n",
    "- Radial Basis Network (RBF)\n",
    "- Deep Feed Forward (DFF)\n",
    "- Recurrent Neural Networks (RNN)\n",
    "- Long / Short Term Memory (LSTM)\n",
    "- Gated Recurrent Unit (GRU)\n",
    "- Auto Encoder (AE)\n",
    "- Variational AE (VAE)\n",
    "- Denoising AE (DAE)\n",
    "- Sparse AE (SAE)\n",
    "- Markov Chain (MC)\n",
    "- Hopfield Network (HN)\n",
    "- Boltzmann Machine (BM)\n",
    "- Restricted BM (RBM)\n",
    "- Deep Beliefe Network (DBN)\n",
    "- Deep Convolutional Network (DCN)\n",
    "- Deconvolutional Network (DN)\n",
    "- Deep Convolutional Inverse Graphics Network (DCIGN)\n",
    "- Generative Adversarial Network (GAN)\n",
    "- Liquid State Machine (LSM)\n",
    "- Extreme Learning Machine (ELM)\n",
    "- Echo State Network (ESN)\n",
    "- Deep Residual Network (DRN)\n",
    "- Kohonen Network (KN)\n",
    "- Support Vector Machine (SVM)\n",
    "- Neural Turing Machine (NTM)\n",
    "- Convolutional Neural Network (CNN)\n",
    "\n",
    "\n",
    "Um die Grundlagen zu verstehen, haben wir uns die einzelnen Netzwerke angeschaut und und Netze gesucht, die unsere Anforderungen erfüllen.\n",
    "\n",
    "Ein Perceptron nimmt einige Eingabeparameter und addiert diese zusammen. Die Daten werden durch eine Aktivierungsfunktion geschickt und ausgegeben.\n",
    "Ein Perceptron ist ein einzelnes Neuron, somit bildet es die Grundlage für größere Netze.\n",
    "\n",
    "Bei Feed Forward Netzen sind alle Knoten vernetzt, die Daten werden von einer Schicht in die nächste Schicht übergeben. Es findet keine Wiedereinspeisung der Ergebnisse hinterer Schichten in fordere Schichten statt. Zwischen der Eingabe und der Ausgabe befindet sich ein \"hidden Layer\". Netze dieser Art werden durch \"Backpropagation\" oder auch \"Rückpropagierung\" trainiert. Dies ist ein überwachtes Lernverfahren bei dem ein externer Lehrer zu jedem Zeitpunkt einer Eingabe die gewünschte Ausgabe kennt (Vgl. [Wikipedia](https://de.wikipedia.org/wiki/Backpropagation)).\n",
    "RBFs sind FF-Netze, die statt einer logistischen Funktion eine radiale Basisfunktion verwenden (Vgl. [Wikipedia 1](https://de.wikipedia.org/wiki/Logistische_Funktion), [Wikipedia 2](https://de.wikipedia.org/wiki/Radiale_Basisfunktion)). Logistische Funktionen eignen sich vor allem bei der Beantwortung von Ja und Nein Fragen, radiale Basisfunktionen eignen sich dagegen um die Frage zu beantworten, wie weit man von seinem Ziel entfernt ist. Logistische Funktionen eignen sich daher besser für Klassifizierungen und das Treffen von Entscheidungen, als radiale Basisfunktionen.\n",
    "Deep Feed Forward Netze sind FF-Netze mit mehreren hidden Layern. Das einfache Aneinanderreihen von weiteren Schichten führt jedoch zu einem exponentiellen Wachstum von Fehlern, da mit jeder Schicht eine bestimmte Fehlerrate weitergeben wird. Es gibt jedoch Möglichkeiten diese Fehlerraten zu minimieren und DFFs effektiv nutzen zu können.\n",
    "Neben den genannten Neuronalen Netzen eignen sich Autoencoder für die Klassifizierung. Sie können zudem ohne Beaufsichtigung trainiert werden. FFs dagegen werden mit Beispieldaten verschiedener Kategorien trainiert, sodass FFs unter die Kategorie beaufsichtigtes Lernen fallen (Vgl. [towards datascience](https://towardsdatascience.com/the-mostly-complete-chart-of-neural-networks-explained-3fb6f2367464)).\n",
    "\n",
    "Aktuell werden Deep Convolutional Networks als die \"Stars\" der künstlichen Neuronalen Netze betrachtet.\n",
    "Sie besitzen verschiedene Schichten. Am anfang werden die Eingabedaten soweit komprimiert und vereinfacht, dass das Neuronale Netz die Daten verarbeiten kann.\n",
    "Das geschieht in der \"Pooling Layer\". DCNs werden typischerweise für die Erkennung verwendet.\n",
    "Bilder werden beispielsweise in kleinere Bildteile aufgeteilt. Die weiteren Schichten sind auf die Erkennung bestimmter Muster optimiert.\n",
    "Zum Beispiel kann die erste Schicht Farbverläufe erkennen, die zweite Linien, die dritte Formen, etc. bis hin zu ganzen Objekten (Vgl. [towards datascience](https://towardsdatascience.com/the-mostly-complete-chart-of-neural-networks-explained-3fb6f2367464)).\n",
    "\n",
    "CNNs sind eine Sonderform von mehrlagigen Perceptrons. Damit muss wie bei Feed Porward Netzen daraufgeachtet werden, dass die Fehlerraten nicht zu stark zunehmen.\n",
    "Zudem sind CNNs in der Lage Matrizen als Input zu verwenden. Dies können nicht alle Neuronalen Netzwerke. Häufig benötigen sie einen Vektor als Eingabeparameter (Vgl. [JAAI](https://jaai.de/convolutional-neural-networks-cnn-aufbau-funktion-und-anwendungsgebiete-1691/)).\n",
    "\n",
    "Convolutional Neural Networks sind gleichzusetzen mit Deep Convolutional Networks. \n",
    "CNNs bzw. DCNs werden zumeist verwendet um Bilder zu klassifizieren so kann ihnen ein Label gegeben werden, oder sie können in verschiedene Kategorien eingeteilt werden.\n",
    "Sie können auch verwendet werden um Objekte wie Straßenschilder oder Gesichter zu erkennen (Vgl.[Pathmind](https://wiki.pathmind.com/convolutional-network)). In der Automobilindustrie kann die Erkennung von Straßenschilder unter anderem verwendet werden, um die Geschindigkeit automatisch anzupassen, oder autonomes Fahren zu ermöglichen.\n",
    "\n",
    "Wie unsere Suche zeigt, eigenen sich für unseren Anwendungsfall der Bildklassifizierung vor allem Convolutional Neural Networks (CNNs) eignen. \n",
    "Daher setzen wir in unserem Projekt CNNs ein um unsere Bilddaten zu klassifizieren."
   ]
  },
  {
   "cell_type": "markdown",
   "id": "professional-member",
   "metadata": {},
   "source": [
    "## Erklärung: CNN"
   ]
  },
  {
   "cell_type": "markdown",
   "id": "selective-following",
   "metadata": {},
   "source": [
    "## CNN Paramter\n",
    "### Überblick der Paramter\n",
    "### Variation der Paramter"
   ]
  },
  {
   "cell_type": "markdown",
   "id": "laughing-aurora",
   "metadata": {},
   "source": [
    "## Vorstellung der Ergebnisse"
   ]
  }
 ],
 "metadata": {
  "kernelspec": {
   "display_name": "Python 3",
   "language": "python",
   "name": "python3"
  },
  "language_info": {
   "codemirror_mode": {
    "name": "ipython",
    "version": 3
   },
   "file_extension": ".py",
   "mimetype": "text/x-python",
   "name": "python",
   "nbconvert_exporter": "python",
   "pygments_lexer": "ipython3",
   "version": "3.5.2"
  }
 },
 "nbformat": 4,
 "nbformat_minor": 5
}
